{
 "cells": [
  {
   "cell_type": "code",
   "execution_count": null,
   "metadata": {},
   "outputs": [],
   "source": [
    "# ! pip install sentence-splitter"
   ]
  },
  {
   "cell_type": "code",
   "execution_count": null,
   "metadata": {},
   "outputs": [],
   "source": [
    "import pandas as pd\n",
    "import re\n",
    "from sentence_splitter import SentenceSplitter, split_text_into_sentences"
   ]
  },
  {
   "cell_type": "code",
   "execution_count": null,
   "metadata": {},
   "outputs": [],
   "source": [
    "df = pd.read_csv('C:/Users/VG/Saved Games/Desktop/dippractice/data/politics/ru/immigrantsputin/immigrantsputin.csv')"
   ]
  },
  {
   "cell_type": "code",
   "execution_count": null,
   "metadata": {},
   "outputs": [],
   "source": [
    "for index,row in df.head(100).iterrows():\n",
    "    print(index,row[\"CommentText\"])"
   ]
  },
  {
   "cell_type": "code",
   "execution_count": null,
   "metadata": {},
   "outputs": [],
   "source": [
    "digits = \"0123456789\"\n",
    "lettersRU = \"йцукенгшщзхъфывапролджэячсмитьбюЙЦУКЕНГШЩЗХЪФЫВАПРОЛДЖЭЯЧСМИТЬБЮ\"\n",
    "lettersEN = \"qwertyuiopasdfghjklzxcvbnmQWERTYUIOPASDFGHJKLZXCVBNM\"\n",
    "delimiters = \" ,.:;'!?()-/|\\[]{}\"\n",
    "othersymbols = \"+=<>@#&$%*~№\"\n",
    "\n",
    "mindigits_uni = min([ord(ch) for ch in digits])\n",
    "maxdigits_uni = max([ord(ch) for ch in digits])\n",
    "minlettersRU_uni = min([ord(ch) for ch in lettersRU])\n",
    "maxlettersRU_uni = max([ord(ch) for ch in lettersRU])\n",
    "minlettersEN_uni = min([ord(ch) for ch in lettersEN])\n",
    "maxlettersEN_uni = max([ord(ch) for ch in lettersEN])\n",
    "mindelimiters_uni = min([ord(ch) for ch in delimiters])\n",
    "maxdelimiters_uni = max([ord(ch) for ch in delimiters])\n",
    "minothersymbols_uni = min([ord(ch) for ch in othersymbols])\n",
    "maxothersymbols_uni = max([ord(ch) for ch in othersymbols]) \n",
    "\n",
    "\n",
    "def myStringToPureText_RuEn(stringg):  \n",
    "    res = \"\"\n",
    "    for ch in stringg:\n",
    "        if  mindigits_uni <= ord(ch) <= maxdigits_uni or minlettersRU_uni <= ord(ch) <= maxlettersRU_uni or minlettersEN_uni <= ord(ch) <= maxlettersEN_uni or mindelimiters_uni <= ord(ch) <= maxdelimiters_uni or minothersymbols_uni <= ord(ch) <= maxothersymbols_uni:\n",
    "            res = res + ch\n",
    "    return res"
   ]
  },
  {
   "cell_type": "code",
   "execution_count": null,
   "metadata": {},
   "outputs": [],
   "source": [
    "replacementlistRU = dict()\n",
    "replacementlistRU['\\n'] = '. '; replacementlistRU['\\r'] = '';\n",
    "replacementlistRU[\"((\"] = '. '; replacementlistRU[\"))\"] = '. '; \n",
    "replacementlistRU['+'] = \" плюс \"; replacementlistRU['='] = \" равно \";  replacementlistRU['/'] = \" или \";\n",
    "\n",
    "replacementlistEN = dict()\n",
    "replacementlistEN['\\n'] = '. '; replacementlistEN['\\r'] = '';\n",
    "replacementlistEN['+'] = \" plus \"; replacementlistEN['='] = \" equals \";  replacementlistEN['/'] = \" or \";\n",
    "replacementlistEN['&'] = \" and \";\n",
    "\n",
    "naivepattern = re.compile(r'([а-яa-zА-ЯA-Z](( т.п.| т.д.| пр. | г. | e.g. | Mr. | Mrs. | i.e. )|[^?!.\\(]|\\([^\\)]*\\))*[.?!])')\n",
    "\n",
    "def myTextToSentencesSplitter(comtext, method = \"naive\", lang = \"en\"):\n",
    "    res = []\n",
    "    comtext = comtext + '.'\n",
    "    \n",
    "    if lang == \"ru\":\n",
    "        for key in replacementlistRU.keys():\n",
    "            comtext = comtext.replace(key,replacementlistRU[key])\n",
    "    elif lang == \"en\":\n",
    "        for key in replacementlistEN.keys():\n",
    "            comtext = comtext.replace(key,replacementlistEN[key])\n",
    "    \n",
    "    # purify text from emoticons and non-text symbols\n",
    "    comtext = myStringToPureText_RuEn(comtext)\n",
    "    \n",
    "    # method using regular expression\n",
    "    if method ==  \"naive\":                 \n",
    "        for index, sent in enumerate(naivepattern.findall(comtext)):\n",
    "            res.append(sent[0])\n",
    "    \n",
    "    # method using algorithm by Philipp Koehn and Josh Schroeder\n",
    "    elif method == \"kohen-schroeder\":\n",
    "        splitter = SentenceSplitter(language = lang)\n",
    "        res = splitter.split(text = comtext)\n",
    "        \n",
    "    return res "
   ]
  },
  {
   "cell_type": "code",
   "execution_count": null,
   "metadata": {},
   "outputs": [],
   "source": [
    "# comtext = df[\"CommentText\"][13]\n",
    "\n",
    "# example - RU\n",
    "comtext = \"Храни вас Бог))) мирного + голубого неба всем! \\n Слово слово слово... \\n тртртрттр\"\n",
    "\n",
    "# example - EN\n",
    "#comtext = \"That's what you get \\n haha why you threat? I'm typing/testing smth here! Day after day ... and here we go :)\"\n",
    "#comtext = \"She is Mrs. Smith born in 1992. Here some fruits e.g. apples and oranges. Have to pay the bill i.e. 20 usd\"\n",
    "\n",
    "print(comtext)\n",
    "print(\"----------------\")\n",
    "res = myTextToSentencesSplitter(comtext, method = \"naive\", lang = \"ru\")\n",
    "for i in range(0,len(res)): \n",
    "    print(i, res[i])"
   ]
  },
  {
   "cell_type": "code",
   "execution_count": null,
   "metadata": {},
   "outputs": [],
   "source": [
    "%%time\n",
    "df[\"CommentTextSplitNV\"] = df[\"CommentText\"].apply(lambda x: myTextToSentencesSplitter(x, method = \"naive\", lang = \"ru\"))\n",
    "#df[\"CommentTextSplitKS\"] = df[\"CommentText\"].apply(lambda x: myTextToSentencesSplitter(x, method = \"kohen-schroeder\", lang = \"en\"))"
   ]
  },
  {
   "cell_type": "code",
   "execution_count": null,
   "metadata": {},
   "outputs": [],
   "source": [
    "df.head(3)"
   ]
  },
  {
   "cell_type": "code",
   "execution_count": null,
   "metadata": {},
   "outputs": [],
   "source": [
    "df.to_pickle('C:/Users/VG/Saved Games/Desktop/dippractice/data/politics/ru/immigrantsputin/immigrantsputin_dataset.pkl')"
   ]
  },
  {
   "cell_type": "code",
   "execution_count": null,
   "metadata": {},
   "outputs": [],
   "source": []
  }
 ],
 "metadata": {
  "kernelspec": {
   "display_name": "Python 3",
   "language": "python",
   "name": "python3"
  },
  "language_info": {
   "codemirror_mode": {
    "name": "ipython",
    "version": 3
   },
   "file_extension": ".py",
   "mimetype": "text/x-python",
   "name": "python",
   "nbconvert_exporter": "python",
   "pygments_lexer": "ipython3",
   "version": "3.7.1"
  }
 },
 "nbformat": 4,
 "nbformat_minor": 2
}
