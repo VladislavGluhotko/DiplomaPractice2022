{
 "cells": [
  {
   "cell_type": "code",
   "execution_count": 1,
   "metadata": {},
   "outputs": [],
   "source": [
    "from bs4 import BeautifulSoup\n",
    "import pandas as pd\n",
    "from datetime import datetime, timezone"
   ]
  },
  {
   "cell_type": "code",
   "execution_count": 2,
   "metadata": {},
   "outputs": [],
   "source": [
    "def myToDateTime(datestr,yearr):\n",
    "    dayy,monthnamee,_,time24hh = datestr.rsplit(' ',4)\n",
    "    dayy = int(dayy)\n",
    "    hourss,minutess = [int(x) for x in time24hh.rsplit(':',2)]\n",
    "    secondss,milliseconds = [0,0]\n",
    "    monthh = {\n",
    "         monthnamee == \"янв\" : 1,\n",
    "         monthnamee == \"фев\" : 2,\n",
    "         monthnamee == \"мар\" : 3,\n",
    "         monthnamee == \"апр\" : 4,\n",
    "         monthnamee == \"мая\" : 5,\n",
    "         monthnamee == \"июн\" : 6,\n",
    "         monthnamee == \"июл\" : 7,\n",
    "         monthnamee == \"авг\" : 8,\n",
    "         monthnamee == \"сен\" : 9,\n",
    "         monthnamee == \"окт\" : 10,\n",
    "         monthnamee == \"ноя\" : 11,\n",
    "         monthnamee == \"дек\" : 12\n",
    "    }[True]\n",
    "    \n",
    "    tLOC = datetime(yearr, monthh, dayy, hourss, minutess, secondss, milliseconds)\n",
    "    return tLOC"
   ]
  },
  {
   "cell_type": "code",
   "execution_count": 3,
   "metadata": {},
   "outputs": [],
   "source": [
    "with open('C:/Users/VG/Saved Games/Desktop/dippractice/data/sports/ru/uefaleaguevk.html', 'rb') as html:\n",
    "    soup = BeautifulSoup(html, \"html.parser\")"
   ]
  },
  {
   "cell_type": "code",
   "execution_count": 4,
   "metadata": {},
   "outputs": [],
   "source": [
    "count = 0\n",
    "df_comments=[]"
   ]
  },
  {
   "cell_type": "code",
   "execution_count": 5,
   "metadata": {},
   "outputs": [],
   "source": [
    "commentboxes=soup.find(\"div\",\"replies_list _replies_list\",recursive=True)\n",
    "children=commentboxes.findChildren(recursive=False)"
   ]
  },
  {
   "cell_type": "code",
   "execution_count": null,
   "metadata": {},
   "outputs": [],
   "source": [
    "for box in commentboxes:\n",
    "    if 'replies_wrap_deep' in box[\"class\"]:\n",
    "        isbasecomment = False\n",
    "    else:\n",
    "        isbasecomment = True\n",
    "        \n",
    "    replies = box.find_all(\"div\",\"reply_content\")\n",
    "    \n",
    "    for reply in replies:\n",
    "        comment = reply.find(\"div\",\"wall_reply_text\")\n",
    "        if comment == None:\n",
    "            commenttext = \"-\"\n",
    "        else:\n",
    "            commenttext = comment.text\n",
    "        \n",
    "        nickname = reply.find(\"div\",\"reply_author\").find(\"a\",\"author\").text\n",
    "        date = myToDateTime(reply.find(\"div\",\"reply_date\").find(\"span\",\"rel_date\").text,2022)\n",
    "        \n",
    "        likesbox = reply.find(\"div\",\"like_button_count\")\n",
    "        if likesbox.text == '':\n",
    "            likescount = 0\n",
    "        else:\n",
    "            likescount = int(likesbox.text)\n",
    "        \n",
    "        df_comments.append([count,commenttext,nickname,date,likescount,isbasecomment])\n",
    "        count = count + 1\n"
   ]
  },
  {
   "cell_type": "code",
   "execution_count": null,
   "metadata": {},
   "outputs": [],
   "source": [
    "uefaleaguevkData=pd.DataFrame(df_comments,columns=[\"countID\",\"CommentText\",\"Nickname\",\"Date\",\"LikesCount\",\"IsBaseComment\"])\n",
    "uefaleaguevkData"
   ]
  },
  {
   "cell_type": "code",
   "execution_count": null,
   "metadata": {},
   "outputs": [],
   "source": [
    "# True = 1 , False = 0\n",
    "b = True\n",
    "for index, row in uefaleaguevkData.iterrows():\n",
    "    b = b * (index == row[\"countID\"])\n",
    "\n",
    "if b == True : \n",
    "    uefaleaguevkData = uefaleaguevkData.drop([\"countID\"], axis = 1) \n",
    "    print(\"id and countID match\")"
   ]
  },
  {
   "cell_type": "code",
   "execution_count": null,
   "metadata": {},
   "outputs": [],
   "source": [
    "uefaleaguevkData.to_csv(path_or_buf='C:/Users/VG/Saved Games/Desktop/dippractice/data/sports/ru/uefaleaguevk.csv')"
   ]
  },
  {
   "cell_type": "code",
   "execution_count": 8,
   "metadata": {},
   "outputs": [
    {
     "name": "stdout",
     "output_type": "stream",
     "text": [
      "У Атлетико два раза штанга в ворота Мю, могло быть счет 3:1. Атлетико больше заслуживает\n",
      "Raffaell, во 2 тайме атлетико катал вату, так что получили по делу, ну и + облак дыра\n",
      "Raffaell, первая штанга отскок от игрока МЮ, вторая оффсайд. Ваш скулёжь это что-то с чем-то\n",
      "Raffaell, все орут там было офсайд\n",
      "Raffaell, вторая крестовина оффсайд, а первая отскок от Линделофа\n",
      "Руслан, короче Атлетико мю топ 5 не входит. #уевые команды.  эх как же повезло с жеребьёвкой \n",
      "Raffaell, у Гризмана офсайд был\n",
      "Raffaell, да, согласен\n",
      "Raffaell, .Атлетико после замен  игроков рассыпалась Думаю М.Ю  дома  выиграет их, Хотя кто его знает Они Ливерпуль   дома 3.1 обыграли.Пока только Ливерпуль и Челси уверена лидируют М сити  им вообще очень слабая команда досталась.\n",
      "Raffaell, а у МЮ 2 в створ - он больше заслуживает... Хорошая логика? Забили по одному мячу - значит большего не заслужили. Это железная логика.\n",
      "Алилов, ну у Челси тоже как и у Сити слабый соперник попался\n",
      "Raffaell, один раз и плюс что там оффсайд у Гризмана был\n",
      "Raffaell, другая от игрока мю так что там скорее чуть атлетико чуть не отскочил\n",
      "Короче пройдет в 1/4 Псж Реал под вопросомСити БаварияЛиверпульЧелси ЮвентусАяксАтлетико Мадрид\n",
      "Raffaell, на счёт последнего не уверен а так всё ок\n",
      "Иван, не уверен? Если бы вместо мю Ювентус или Реал можно ответку дать, нынешний мю как Милан.\n",
      "Raffaell, Ювентус ужасно играл против Вильярреала, второй тайм тупо отдали команде. Вильярреал более уверенно. Атлетико  так же под вопросом, Аякс может доиграться как с Тоттенхэмом когда то, свои моменты не реализовывают и фигнёй страдаю, а после пропускают.\n",
      "Raffaell, ну не скидывай муму раньше времени  они пройдут\n",
      "пройдет:РеалСитиБаварияЛиверпульЧелсиВильяреал точно доп время и скорее пенки!БенфикаАтлетико\n",
      "Иван, походу ты фан Мю ? \n",
      "Raffaell, крутая логика, ставить на фаворитов\n",
      "Raffaell, у МЮ есть игрок который в нужный момент вытащит может\n",
      "Raffaell, Реал ещё парочку охватит в ответном матче, Вильяреал в полне по сила выиграть Ювентус ( Если матч смотрел то поймёшь ) Да и МЮ может победить потому что у Атлетико нет футбола у них только отскок и удар если не получилось возвращаютс на защиту\n",
      "Muslim, эланга? ахаха\n",
      "Мартан, я о Роналду\n",
      "Muslim, да понял я\n",
      "Muslim, в последняя время так себе\n",
      "Рустам, я тоже уверен что Реал смогут пройдёт, но не хочу недооценивать соперника. Hala Madrid.\n",
      "Raffaell, Ну посмотрим что будет))) Реал щас не в той форме пару годиков ещё нужно на перестройку как я думаю\n",
      "Raffaell, согласен, но Реала там не будет\n",
      "Мартан, с вильяреалом во втором туре тоже 1-1 было трудная игра и в конце 2-1 Роналду забил, в первом так же забить не могли и Роналду открыл счёт перекинув рулли, с аталантой так же 2 забил и ничью принёс второй так же в конце, МЮ 3-2 аталанта все шло к ничьей и Роналду воткнул головой , янг бойзу тоже забил а как заменили из за травмы его, они сдулись и проиграли\n",
      "Raffaell, а Ювентус и Аякс не под вопросам с Атлетико?)У ПСЖ больше шансов пройти, чем у Ювентуса например или из пары Атлетико- МЮ. Там вообще у этих двух пар не понятно и 50 на 50\n",
      "Raffaell, последние две пары 50 на 50 :)\n",
      "Raffaell, а вы наверное фанат Реал Мадрид как и я\n",
      "Спортинг жалко. Ман Сити уже который год подряд везёт с соперником в 1/8.\n",
      "Асилбек, согласен им везёт\n",
      "Асилбек, первое место в группе занимают просто\n",
      "Юра, какой год подряд хах, второй)\n",
      "Мейрамбек, везёт тому, кто сам везёт! Баварии тоже фартануло, также как и Челси\n",
      "Максим, Так даже чаще чем 2 раза. Никто не виноват что они берут и побеждают, занимают первые места везде.\n",
      "В 1/4ПСЖСИТИБАВАРИЯЛИВЕРЧЕЛСИЮВЕАЯКСМЮ\n",
      "Дима, Нет место Юве вильяреалл, а вместо Мю Атлетико Мадрид\n",
      "Миха, это моё мнение\n",
      "Дима, думаю место мю атлетико\n",
      "Дима, Вместо юве под вопросом а так четко\n",
      "Влад, это его мнение всосался обратно\n",
      "Павел, это его мнение,всосался обратно\n",
      "Дима, да ну\n",
      "МЮ трахнет атлетико матрасником !!!!\n",
      "Дима, Принсипи да также будет\n",
      "Бавария - Зальцбург... И надеялась на победу Аякса!\n",
      "Роза, соглаасен\n",
      "Роза, удивительно, что Бавария не проиграла Зальцбургу)\n",
      "Согласен Атлетико был на голову выше МЮ и заслуживал победы,но...Атлетико вообще не везет,то Ливерпуль их не вполне заслуженно растоптал то в Испанском чемпионате их имеют\n",
      "Руслан, а когда Ливерпуль незаслуженно катнул их?)\n",
      "Максим, в группе в первом матче когда Симеоне не пожал Клоппу руку..я написал не вполне заслуженно\n",
      "Руслан, на голову выше?\n",
      "Цырен, так мю в первом тайме вообще ничего не показал , стыдно было смотреть на это , а владение это катание на своей половине пол игры\n",
      "Цырен, игру всю пересмотри , поймешь о чем он . Не всегда стата , показывает , что команда доминировала\n",
      "Честно ПСЖ\n",
      "Иван, \n",
      "Жасур, чо ржошь\n",
      "Лёха, над своим именем\n",
      "Как надо \n",
      "Александр, хорош\n",
      "Александр, жаль что не твой пресс)\n",
      "Залцбург Бавария 1:1 удивил\n",
      "Удивил сити со своими 0:5, остальное ожидаемо\n",
      "Nikita, хахахахаахххааах\n",
      "HalaMadrid\n",
      "Мартан, почему твой реал упал в защиту?\n",
      "Мартан, соболезную\n",
      "Bogdan, потому что, так надо было брат\n",
      "Лёха, судишь по одному матчу?\n",
      "Bogdan, Потому что так надо было\n",
      "В 1/4 пройдёт 100% ПСЖСитиБаварияИнтерЧелсиВильярреалАяксАтлетико\n",
      "Нурсултан, Интер, на ЛФК поменяй, и будет, так как надо.\n",
      "Нурсултан, думаю Ювентус дома просто уничтожить вильяреала\n",
      "Гол на выезде в счёт идёт ещё или нет ,я не понимаю\n",
      "Виктор, не\n",
      "Виктор, с этого года отменили\n",
      "Сити \n",
      "Клоуны убивают спорт и смешивают его с политикой\n",
      "Зальцбург Бавария\n"
     ]
    },
    {
     "ename": "AttributeError",
     "evalue": "'NoneType' object has no attribute 'text'",
     "output_type": "error",
     "traceback": [
      "\u001b[1;31m---------------------------------------------------------------------------\u001b[0m",
      "\u001b[1;31mAttributeError\u001b[0m                            Traceback (most recent call last)",
      "\u001b[1;32m<ipython-input-8-45f3349810b5>\u001b[0m in \u001b[0;36m<module>\u001b[1;34m\u001b[0m\n\u001b[0;32m      3\u001b[0m \u001b[1;33m\u001b[0m\u001b[0m\n\u001b[0;32m      4\u001b[0m     \u001b[1;32mfor\u001b[0m \u001b[0mreply\u001b[0m \u001b[1;32min\u001b[0m \u001b[0mreplies\u001b[0m\u001b[1;33m:\u001b[0m\u001b[1;33m\u001b[0m\u001b[1;33m\u001b[0m\u001b[0m\n\u001b[1;32m----> 5\u001b[1;33m         \u001b[0mprint\u001b[0m\u001b[1;33m(\u001b[0m\u001b[0mreply\u001b[0m\u001b[1;33m.\u001b[0m\u001b[0mfind\u001b[0m\u001b[1;33m(\u001b[0m\u001b[1;34m\"div\"\u001b[0m\u001b[1;33m,\u001b[0m\u001b[1;34m\"wall_reply_text\"\u001b[0m\u001b[1;33m)\u001b[0m\u001b[1;33m.\u001b[0m\u001b[0mtext\u001b[0m\u001b[1;33m)\u001b[0m\u001b[1;33m\u001b[0m\u001b[1;33m\u001b[0m\u001b[0m\n\u001b[0m",
      "\u001b[1;31mAttributeError\u001b[0m: 'NoneType' object has no attribute 'text'"
     ]
    }
   ],
   "source": [
    "for box in commentboxes:\n",
    "    replies = box.find_all(\"div\",\"reply_content\")\n",
    "\n",
    "    for reply in replies:\n",
    "        print(reply.find(\"div\",\"wall_reply_text\").text)"
   ]
  },
  {
   "cell_type": "code",
   "execution_count": 11,
   "metadata": {},
   "outputs": [
    {
     "data": {
      "text/plain": [
       "type"
      ]
     },
     "execution_count": 11,
     "metadata": {},
     "output_type": "execute_result"
    }
   ],
   "source": []
  },
  {
   "cell_type": "code",
   "execution_count": null,
   "metadata": {},
   "outputs": [],
   "source": []
  }
 ],
 "metadata": {
  "kernelspec": {
   "display_name": "Python 3",
   "language": "python",
   "name": "python3"
  },
  "language_info": {
   "codemirror_mode": {
    "name": "ipython",
    "version": 3
   },
   "file_extension": ".py",
   "mimetype": "text/x-python",
   "name": "python",
   "nbconvert_exporter": "python",
   "pygments_lexer": "ipython3",
   "version": "3.7.1"
  }
 },
 "nbformat": 4,
 "nbformat_minor": 2
}
