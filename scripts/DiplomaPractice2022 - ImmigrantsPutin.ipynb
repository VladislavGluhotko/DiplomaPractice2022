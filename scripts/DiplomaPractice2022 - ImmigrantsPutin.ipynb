{
 "cells": [
  {
   "cell_type": "code",
   "execution_count": null,
   "metadata": {},
   "outputs": [],
   "source": [
    "from bs4 import BeautifulSoup\n",
    "import requests\n",
    "import pandas as pd\n",
    "from datetime import datetime, timezone\n",
    "import string"
   ]
  },
  {
   "cell_type": "code",
   "execution_count": null,
   "metadata": {},
   "outputs": [],
   "source": [
    "digits = \"0123456789\"\n",
    "lettersRU = \"йцукенгшщзхъфывапролджэячсмитьбюЙЦУКЕНГШЩЗХЪФЫВАПРОЛДЖЭЯЧСМИТЬБЮ\"\n",
    "lettersEN = \"qwertyuiopasdfghjklzxcvbnmQWERTYUIOPASDFGHJKLZXCVBNM\"\n",
    "delimiters = \" ,.:;'!?()-/|\\[]{}\"\n",
    "othersymbols = \"+=<>@#&$%*~№\"\n",
    "\n",
    "mindigits_uni = min([ord(ch) for ch in digits])\n",
    "maxdigits_uni = max([ord(ch) for ch in digits])\n",
    "minlettersRU_uni = min([ord(ch) for ch in lettersRU])\n",
    "maxlettersRU_uni = max([ord(ch) for ch in lettersRU])\n",
    "minlettersEN_uni = min([ord(ch) for ch in lettersEN])\n",
    "maxlettersEN_uni = max([ord(ch) for ch in lettersEN])\n",
    "mindelimiters_uni = min([ord(ch) for ch in delimiters])\n",
    "maxdelimiters_uni = max([ord(ch) for ch in delimiters])\n",
    "minothersymbols_uni = min([ord(ch) for ch in othersymbols])\n",
    "maxothersymbols_uni = max([ord(ch) for ch in othersymbols])"
   ]
  },
  {
   "cell_type": "code",
   "execution_count": null,
   "metadata": {},
   "outputs": [],
   "source": [
    "def myStringToPureText_RuEn(stringg):\n",
    "    res = \"\"\n",
    "    for ch in stringg:\n",
    "        if  mindigits_uni <= ord(ch) <= maxdigits_uni or minlettersRU_uni <= ord(ch) <= maxlettersRU_uni or minlettersEN_uni <= ord(ch) <= maxlettersEN_uni or mindelimiters_uni <= ord(ch) <= maxdelimiters_uni or minothersymbols_uni <= ord(ch) <= maxothersymbols_uni:\n",
    "            res = res + ch\n",
    "    return res"
   ]
  },
  {
   "cell_type": "code",
   "execution_count": null,
   "metadata": {},
   "outputs": [],
   "source": [
    "def removeBlankSpaces(stringg):\n",
    "    i = 0;  j = 0;\n",
    "    n = len(stringg)\n",
    "    res = \"\"\n",
    "    \n",
    "    while i < n:\n",
    "        if stringg[i] == \" \":\n",
    "            j = i + 1\n",
    "            while j < n:\n",
    "                if stringg[j] == \" \":\n",
    "                    j = j + 1\n",
    "                else:\n",
    "                    break\n",
    "            i = j - 1\n",
    "        res = res + stringg[i]\n",
    "        i = i + 1\n",
    "        \n",
    "    return res"
   ]
  },
  {
   "cell_type": "code",
   "execution_count": null,
   "metadata": {},
   "outputs": [],
   "source": [
    "def myToDateTime(datestr,yearr):\n",
    "    temp = datestr.rsplit(' ',4)\n",
    "    temp.remove(''); temp.remove('') \n",
    "    dayy,monthnamee,time24hh = temp\n",
    "    dayy = int(dayy)\n",
    "    hourss,minutess = [int(x) for x in time24hh.rsplit(':',2)]\n",
    "    secondss,milliseconds = [0,0]\n",
    "    monthh = {\n",
    "         monthnamee == \"января\" : 1,\n",
    "         monthnamee == \"февраля\" : 2,\n",
    "         monthnamee == \"марта\" : 3,\n",
    "         monthnamee == \"апреля\" : 4,\n",
    "         monthnamee == \"мая\" : 5,\n",
    "         monthnamee == \"июня\" : 6,\n",
    "         monthnamee == \"июля\" : 7,\n",
    "         monthnamee == \"августа\" : 8,\n",
    "         monthnamee == \"сентября\" : 9,\n",
    "         monthnamee == \"октября\" : 10,\n",
    "         monthnamee == \"ноября\" : 11,\n",
    "         monthnamee == \"декабря\" : 12\n",
    "    }[True]\n",
    "    \n",
    "    tLOC = datetime(yearr, monthh, dayy, hourss, minutess, secondss, milliseconds)\n",
    "    return tLOC"
   ]
  },
  {
   "cell_type": "code",
   "execution_count": null,
   "metadata": {},
   "outputs": [],
   "source": [
    "with open('C:/Users/VG/Saved Games/Desktop/dippractice/data/politics/ru/immigrantsputin/immigrantsputin.html', 'rb') as html:\n",
    "    soup = BeautifulSoup(html,\"html.parser\")"
   ]
  },
  {
   "cell_type": "code",
   "execution_count": null,
   "metadata": {},
   "outputs": [],
   "source": [
    "count = 0\n",
    "df_comments = []"
   ]
  },
  {
   "cell_type": "code",
   "execution_count": null,
   "metadata": {},
   "outputs": [],
   "source": [
    "commentboxes = soup.find_all(\"div\",\"chat__lenta-item popper-wrapper \")"
   ]
  },
  {
   "cell_type": "code",
   "execution_count": null,
   "metadata": {},
   "outputs": [],
   "source": [
    "for box in commentboxes:\n",
    "    commenttext = box.find(\"div\",\"chat__lenta-item-message-text\").text\n",
    "    commenttext = removeBlankSpaces(myStringToPureText_RuEn(commenttext))\n",
    "    \n",
    "    datetxt = box.find(\"div\",\"chat__lenta-item-date\").text\n",
    "    datetxt = datetxt.replace(\",\",\"\")\n",
    "    datetxt = removeBlankSpaces(myStringToPureText_RuEn(datetxt))\n",
    "    date = myToDateTime(datetxt,2022)\n",
    "    \n",
    "    nicktxt = box.find(\"a\",\"chat__lenta-item-name-text\").text\n",
    "    nickname = removeBlankSpaces(myStringToPureText_RuEn(nicktxt))\n",
    "    \n",
    "    likestxt = box.find(\"div\",\"chat__lenta-item-likes\").text\n",
    "    likescount = int(removeBlankSpaces(myStringToPureText_RuEn(likestxt)))\n",
    "    \n",
    "    isbasecomment = box.find(\"div\",\"chat__lenta-quote\") == None\n",
    "    \n",
    "    df_comments.append([count,commenttext,nickname,date,likescount,isbasecomment])\n",
    "    count = count + 1"
   ]
  },
  {
   "cell_type": "code",
   "execution_count": null,
   "metadata": {},
   "outputs": [],
   "source": [
    "immigrantsPutinData=pd.DataFrame(df_comments,columns=[\"countID\",\"CommentText\",\"Nickname\",\"Date\",\"LikesCount\",\"IsBaseComment\"])\n",
    "immigrantsPutinData"
   ]
  },
  {
   "cell_type": "code",
   "execution_count": null,
   "metadata": {},
   "outputs": [],
   "source": [
    "# True = 1 , False = 0\n",
    "b = True\n",
    "for index, row in immigrantsPutinData.iterrows():\n",
    "    b = b * (index == row[\"countID\"])\n",
    "\n",
    "if b == True : \n",
    "    immigrantsPutinData = immigrantsPutinData.drop([\"countID\"], axis = 1) \n",
    "    print(\"id and countID match\")"
   ]
  },
  {
   "cell_type": "code",
   "execution_count": null,
   "metadata": {},
   "outputs": [],
   "source": [
    "immigrantsPutinData.to_csv(path_or_buf='C:/Users/VG/Saved Games/Desktop/dippractice/data/politics/ru/immigrantsputin.csv')"
   ]
  }
 ],
 "metadata": {
  "kernelspec": {
   "display_name": "Python 3",
   "language": "python",
   "name": "python3"
  },
  "language_info": {
   "codemirror_mode": {
    "name": "ipython",
    "version": 3
   },
   "file_extension": ".py",
   "mimetype": "text/x-python",
   "name": "python",
   "nbconvert_exporter": "python",
   "pygments_lexer": "ipython3",
   "version": "3.7.1"
  }
 },
 "nbformat": 4,
 "nbformat_minor": 2
}
